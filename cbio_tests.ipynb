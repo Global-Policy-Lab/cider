{
 "cells": [
  {
   "cell_type": "code",
   "execution_count": 1,
   "metadata": {},
   "outputs": [],
   "source": [
    "from utils import *\n",
    "from cbio import *"
   ]
  },
  {
   "cell_type": "markdown",
   "metadata": {},
   "source": [
    "### CDR"
   ]
  },
  {
   "cell_type": "code",
   "execution_count": 2,
   "metadata": {},
   "outputs": [
    {
     "name": "stdout",
     "output_type": "stream",
     "text": [
      "+-----------+----------+------------+-------------------+--------+--------------+-----------------+-------------+\n",
      "|interaction| caller_id|recipient_id|          timestamp|duration|caller_antenna|recipient_antenna|international|\n",
      "+-----------+----------+------------+-------------------+--------+--------------+-----------------+-------------+\n",
      "|      voice|ptudOnjdRU|  hZvsVsiGbO|2020-01-01 00:00:42|   253.0|          a101|              a54|     domestic|\n",
      "|        sms|UGDojtMoWq|  lpAchcvhBO|2020-01-01 00:02:04|    null|           a44|             a110|     domestic|\n",
      "|        sms|sQGOjnDvvt|  PGiqQSpzov|2020-01-01 00:02:12|    null|          a145|              a96|     domestic|\n",
      "|      voice|oPbUuvHBgi|  IdYycyWmjl|2020-01-01 00:02:23|    96.0|           a84|              a36|     domestic|\n",
      "|        sms|pSwWTbHbug|  sRLqqorjkH|2020-01-01 00:03:05|    null|          a261|             a268|     domestic|\n",
      "+-----------+----------+------------+-------------------+--------+--------------+-----------------+-------------+\n",
      "only showing top 5 rows\n",
      "\n"
     ]
    }
   ],
   "source": [
    "# Test for correct CDR format\n",
    "cdr = load_cdr('synthetic_data/cdr.csv')\n",
    "cdr.show(5)"
   ]
  },
  {
   "cell_type": "code",
   "execution_count": 3,
   "metadata": {},
   "outputs": [],
   "source": [
    "df = pd.read_csv('synthetic_data/cdr.csv').rename({'interaction':'X'}, axis=1)\n",
    "df = df.where((pd.notnull(df)), None)\n",
    "try:\n",
    "    cdr = load_cdr(df=df)\n",
    "except ValueError:\n",
    "    pass"
   ]
  },
  {
   "cell_type": "code",
   "execution_count": 4,
   "metadata": {},
   "outputs": [],
   "source": [
    "# Test for interaction column\n",
    "df = pd.read_csv('synthetic_data/cdr.csv')\n",
    "df['interaction'] = 'X'\n",
    "df = df.where((pd.notnull(df)), None)\n",
    "try:\n",
    "    cdr = load_cdr(df=df)\n",
    "except ValueError:\n",
    "    pass"
   ]
  },
  {
   "cell_type": "code",
   "execution_count": 5,
   "metadata": {},
   "outputs": [],
   "source": [
    "# Test for international column\n",
    "df = pd.read_csv('synthetic_data/cdr.csv')\n",
    "df['international'] = 'XXX'\n",
    "df = df.where((pd.notnull(df)), None)\n",
    "try:\n",
    "    cdr = load_cdr(df=df)\n",
    "except ValueError:\n",
    "    pass"
   ]
  },
  {
   "cell_type": "markdown",
   "metadata": {},
   "source": [
    "### Topups"
   ]
  },
  {
   "cell_type": "code",
   "execution_count": 6,
   "metadata": {},
   "outputs": [
    {
     "name": "stdout",
     "output_type": "stream",
     "text": [
      "+-------------+------+-------------------+\n",
      "|subscriber_id|amount|          timestamp|\n",
      "+-------------+------+-------------------+\n",
      "|   WzwHpoldPp|  96.0|2020-01-01 00:02:47|\n",
      "|   xkThzuCDAY|  73.0|2020-01-01 00:04:33|\n",
      "|   OtFfOxcGMu|  98.0|2020-01-01 00:08:36|\n",
      "|   pjjlDwunYH|   7.0|2020-01-01 00:14:37|\n",
      "|   RBDklSsXkt|  76.0|2020-01-01 00:24:36|\n",
      "+-------------+------+-------------------+\n",
      "only showing top 5 rows\n",
      "\n"
     ]
    }
   ],
   "source": [
    "topups = load_topups('synthetic_data/topups.csv')\n",
    "topups.show(5)"
   ]
  },
  {
   "cell_type": "markdown",
   "metadata": {},
   "source": [
    "### Mobile data"
   ]
  },
  {
   "cell_type": "code",
   "execution_count": 7,
   "metadata": {},
   "outputs": [
    {
     "name": "stdout",
     "output_type": "stream",
     "text": [
      "+-------------+---------+-------------------+\n",
      "|subscriber_id|   volume|          timestamp|\n",
      "+-------------+---------+-------------------+\n",
      "|   MJKWEawMBC| 91.38652|2020-01-01 00:01:15|\n",
      "|   yofaYDcyWJ|118.89835|2020-01-01 00:02:27|\n",
      "|   XstqtfmwLR| 67.68214|2020-01-01 00:16:33|\n",
      "|   ZxDgrIqzha| 65.52507|2020-01-01 00:23:37|\n",
      "|   oPbUuvHBgi| 99.46138|2020-01-01 00:41:44|\n",
      "+-------------+---------+-------------------+\n",
      "only showing top 5 rows\n",
      "\n"
     ]
    }
   ],
   "source": [
    "mobiledata = load_mobiledata('synthetic_data/mobiledata.csv')\n",
    "mobiledata.show(5)"
   ]
  },
  {
   "cell_type": "markdown",
   "metadata": {},
   "source": [
    "### Mobile money"
   ]
  },
  {
   "cell_type": "code",
   "execution_count": 17,
   "metadata": {},
   "outputs": [
    {
     "name": "stdout",
     "output_type": "stream",
     "text": [
      "-RECORD 0---------------------------------------\n",
      " txn_type                 | p2p                 \n",
      " sender                   | NFKHIoqbNt          \n",
      " recipient                | bdvjmfSTsU          \n",
      " timestamp                | 2020-01-01 00:15:51 \n",
      " amount                   | 55.163315           \n",
      " sender_balance_before    | 324.21875           \n",
      " sender_balance_after     | 269.05542           \n",
      " recipient_balance_before | 112.54498           \n",
      " recipient_balance_after  | 167.7083            \n",
      "-RECORD 1---------------------------------------\n",
      " txn_type                 | cashout             \n",
      " sender                   | yURSuqrHbG          \n",
      " recipient                | null                \n",
      " timestamp                | 2020-01-01 00:18:59 \n",
      " amount                   | 81.861              \n",
      " sender_balance_before    | 185.5762            \n",
      " sender_balance_after     | 103.7152            \n",
      " recipient_balance_before | null                \n",
      " recipient_balance_after  | null                \n",
      "-RECORD 2---------------------------------------\n",
      " txn_type                 | cashin              \n",
      " sender                   | IvOrlIzYfz          \n",
      " recipient                | null                \n",
      " timestamp                | 2020-01-01 00:28:17 \n",
      " amount                   | 29.225048           \n",
      " sender_balance_before    | 98.63829            \n",
      " sender_balance_after     | 127.86334           \n",
      " recipient_balance_before | null                \n",
      " recipient_balance_after  | null                \n",
      "-RECORD 3---------------------------------------\n",
      " txn_type                 | p2p                 \n",
      " sender                   | cyedGKnkBl          \n",
      " recipient                | hTYedXuVwS          \n",
      " timestamp                | 2020-01-01 00:28:29 \n",
      " amount                   | 45.561913           \n",
      " sender_balance_before    | 248.71838           \n",
      " sender_balance_after     | 203.15646           \n",
      " recipient_balance_before | 212.01639           \n",
      " recipient_balance_after  | 257.57828           \n",
      "-RECORD 4---------------------------------------\n",
      " txn_type                 | cashout             \n",
      " sender                   | vAwnWzAdpz          \n",
      " recipient                | null                \n",
      " timestamp                | 2020-01-01 00:31:03 \n",
      " amount                   | 55.04077            \n",
      " sender_balance_before    | 150.88644           \n",
      " sender_balance_after     | 95.84567            \n",
      " recipient_balance_before | null                \n",
      " recipient_balance_after  | null                \n",
      "only showing top 5 rows\n",
      "\n"
     ]
    }
   ],
   "source": [
    "mobilemoney = load_mobilemoney('synthetic_data/mobilemoney.csv')\n",
    "mobilemoney.show(5, truncate=True, vertical=True)"
   ]
  },
  {
   "cell_type": "code",
   "execution_count": 9,
   "metadata": {},
   "outputs": [],
   "source": [
    "df = pd.read_csv('synthetic_data/mobilemoney.csv').rename({'txn_type':'X'}, axis=1)\n",
    "df = df.where((pd.notnull(df)), None)\n",
    "try:\n",
    "    mobilemoney = load_mobilemoney(df=df)\n",
    "except ValueError:\n",
    "    pass"
   ]
  },
  {
   "cell_type": "code",
   "execution_count": 10,
   "metadata": {},
   "outputs": [],
   "source": [
    "df = pd.read_csv('synthetic_data/mobilemoney.csv')\n",
    "df['txn_type'] = 'X'\n",
    "df = df.where((pd.notnull(df)), None)\n",
    "try:\n",
    "    mobilemoney = load_mobilemoney(df=df)\n",
    "except ValueError:\n",
    "    pass"
   ]
  }
 ],
 "metadata": {
  "kernelspec": {
   "display_name": "py3",
   "language": "python",
   "name": "py3"
  },
  "language_info": {
   "codemirror_mode": {
    "name": "ipython",
    "version": 3
   },
   "file_extension": ".py",
   "mimetype": "text/x-python",
   "name": "python",
   "nbconvert_exporter": "python",
   "pygments_lexer": "ipython3",
   "version": "3.7.7"
  }
 },
 "nbformat": 4,
 "nbformat_minor": 4
}
