{
 "cells": [
  {
   "cell_type": "code",
   "execution_count": 1,
   "id": "cad88bf4",
   "metadata": {},
   "outputs": [],
   "source": [
    "import numpy as np\n",
    "import pandas as pd\n",
    "\n",
    "import lime\n",
    "import lime.lime_tabular\n",
    "\n",
    "import sys\n",
    "sys.path.insert(0,'..')\n",
    "from cider.ml import *\n",
    "from cider.datastore import DataStore\n",
    "config_file = '../configs/config_conner.yml'"
   ]
  },
  {
   "cell_type": "code",
   "execution_count": 2,
   "id": "9a78642e",
   "metadata": {},
   "outputs": [
    {
     "name": "stderr",
     "output_type": "stream",
     "text": [
      "SLF4J: Class path contains multiple SLF4J bindings.\n",
      "SLF4J: Found binding in [jar:file:/home/connermanuel/hadoop/spark-3.2.0/jars/slf4j-log4j12-1.7.30.jar!/org/slf4j/impl/StaticLoggerBinder.class]\n",
      "SLF4J: Found binding in [jar:file:/home/connermanuel/hadoop/hadoop-3.3.0/share/hadoop/common/lib/slf4j-log4j12-1.7.25.jar!/org/slf4j/impl/StaticLoggerBinder.class]\n",
      "SLF4J: See http://www.slf4j.org/codes.html#multiple_bindings for an explanation.\n",
      "SLF4J: Actual binding is of type [org.slf4j.impl.Log4jLoggerFactory]\n",
      "2021-11-18 10:08:22,881 WARN util.Utils: Your hostname, Hamish resolves to a loopback address: 127.0.1.1; using 172.25.6.121 instead (on interface eth0)\n",
      "2021-11-18 10:08:22,882 WARN util.Utils: Set SPARK_LOCAL_IP if you need to bind to another address\n",
      "Setting default log level to \"WARN\".\n",
      "To adjust logging level use sc.setLogLevel(newLevel). For SparkR, use setLogLevel(newLevel).\n",
      "2021-11-18 10:08:24,469 WARN util.NativeCodeLoader: Unable to load native-hadoop library for your platform... using builtin-java classes where applicable\n",
      "2021-11-18 10:08:25,232 WARN util.Utils: Service 'SparkUI' could not bind on port 4040. Attempting port 4041.\n"
     ]
    }
   ],
   "source": [
    "datastore = DataStore(config_file)"
   ]
  },
  {
   "cell_type": "code",
   "execution_count": 3,
   "id": "f79e6c78",
   "metadata": {},
   "outputs": [
    {
     "name": "stdout",
     "output_type": "stream",
     "text": [
      "FEATURES: file:///mnt/d/College/f2021/URAP/cider/outputs/featurizer/datasets/features.csv\n",
      "Number of observations with features: 668 (668 unique)\n",
      "Number of observations with labels: 50 (50 unique)\n",
      "Number of matched observations: 31 (31 unique)\n",
      "WARNING: The training data has fewer than 100 examples, which will likely result in unreliable results and a model with poor predictive performance.\n",
      "WARNING: 9.87% of features have data for less than 10% of users.\n"
     ]
    }
   ],
   "source": [
    "learner = Learner(datastore)"
   ]
  },
  {
   "cell_type": "code",
   "execution_count": 4,
   "id": "3a0db172",
   "metadata": {},
   "outputs": [
    {
     "name": "stdout",
     "output_type": "stream",
     "text": [
      "WARNING: The R2 score of the best model is below 0.1, which is a strong sign of poor predictive performance; it is recommended to investigate any data issues before proceeding further.\n"
     ]
    }
   ],
   "source": [
    "scores = learner.tuned_model(model_name='lasso')"
   ]
  },
  {
   "cell_type": "code",
   "execution_count": 5,
   "id": "4e3c43f2",
   "metadata": {},
   "outputs": [
    {
     "data": {
      "text/plain": [
       "{'train_r2': '1.00 (0.00)',\n",
       " 'test_r2': '-4.03 (3.06)',\n",
       " 'train_rmse': '38.50 (-6.58)',\n",
       " 'test_rmse': '28473.14 (-8575.28)'}"
      ]
     },
     "execution_count": 5,
     "metadata": {},
     "output_type": "execute_result"
    }
   ],
   "source": [
    "scores"
   ]
  }
 ],
 "metadata": {
  "kernelspec": {
   "display_name": "cider",
   "language": "python",
   "name": "cider"
  },
  "language_info": {
   "codemirror_mode": {
    "name": "ipython",
    "version": 3
   },
   "file_extension": ".py",
   "mimetype": "text/x-python",
   "name": "python",
   "nbconvert_exporter": "python",
   "pygments_lexer": "ipython3",
   "version": "3.8.10"
  }
 },
 "nbformat": 4,
 "nbformat_minor": 5
}
