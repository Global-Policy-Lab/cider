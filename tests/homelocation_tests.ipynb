{
 "cells": [
  {
   "cell_type": "code",
   "execution_count": 3,
   "metadata": {},
   "outputs": [],
   "source": [
    "import sys\n",
    "import numpy as np\n",
    "sys.path.insert(0,'..')\n",
    "from home_location import *\n",
    "\n",
    "config_file = '../configs/config_new.yml'"
   ]
  },
  {
   "cell_type": "markdown",
   "metadata": {},
   "source": [
    "### Load from datastore"
   ]
  },
  {
   "cell_type": "code",
   "execution_count": 4,
   "metadata": {},
   "outputs": [],
   "source": [
    "datastore = DataStore(config_file)"
   ]
  },
  {
   "cell_type": "code",
   "execution_count": 5,
   "metadata": {},
   "outputs": [
    {
     "name": "stdout",
     "output_type": "stream",
     "text": [
      "Loading CDR...\n",
      "Loading antennas...\n",
      "Warning: 10 antennas missing location\n"
     ]
    }
   ],
   "source": [
    "spark = datastore.spark\n",
    "home_locator = HomeLocator(datastore)"
   ]
  },
  {
   "cell_type": "code",
   "execution_count": 6,
   "metadata": {},
   "outputs": [],
   "source": [
    "cdr = pd.read_csv('../synthetic_data/cdr.csv')\n",
    "outgoing = cdr[['caller_id', 'caller_antenna', 'timestamp']]\\\n",
    "    .rename({'caller_id':'name', 'caller_antenna':'antenna_id'}, axis=1)\n",
    "incoming = cdr[['recipient_id', 'recipient_antenna', 'timestamp']]\\\n",
    "    .rename({'recipient_id':'name', 'recipient_antenna':'antenna_id'}, axis=1)\n",
    "cdr = pd.concat([outgoing, incoming])\n",
    "antennas = pd.read_csv('../synthetic_data/antennas.csv')\n",
    "cdr = cdr.merge(antennas, on='antenna_id', how='inner')"
   ]
  },
  {
   "cell_type": "markdown",
   "metadata": {},
   "source": [
    "### Modal Tower"
   ]
  },
  {
   "cell_type": "code",
   "execution_count": null,
   "metadata": {},
   "outputs": [],
   "source": [
    "homes = home_locator.get_home_locations('count_transactions').rename({'subscriber_id':'name'}, axis=1)"
   ]
  },
  {
   "cell_type": "code",
   "execution_count": null,
   "metadata": {},
   "outputs": [],
   "source": [
    "grouped = pd.DataFrame(cdr.groupby('name')['tower_id'].agg(pd.Series.mode))\n",
    "grouped['tower_id'] = grouped['tower_id'].apply(lambda x:  x if ','.join(x)[1] == ',' else np.nan)\n",
    "grouped = grouped.dropna()\n",
    "merged = grouped.merge(homes, on='name')\n",
    "assert len(merged[merged['tower_id_x'] != merged['tower_id_y']]) == 0"
   ]
  },
  {
   "cell_type": "markdown",
   "metadata": {},
   "source": [
    "### Tower with Most Unique Days"
   ]
  },
  {
   "cell_type": "code",
   "execution_count": null,
   "metadata": {},
   "outputs": [],
   "source": [
    "homes = home_locator.get_home_locations('count_days').rename({'subscriber_id':'name'}, axis=1)"
   ]
  },
  {
   "cell_type": "code",
   "execution_count": null,
   "metadata": {},
   "outputs": [],
   "source": [
    "cdr['day'] = cdr['timestamp'].apply(lambda x: x[:10])\n",
    "grouped = pd.DataFrame(cdr.groupby(['name', 'tower_id'])['timestamp'].nunique())\n",
    "max_counts = grouped.groupby('name').agg('max')\n",
    "max_counts = max_counts.to_dict(orient='index')\n",
    "for key in list(max_counts.keys()):\n",
    "    max_counts[key] = max_counts[key]['timestamp']\n",
    "grouped['c'] = [x[0] for x in list(grouped.index)]\n",
    "grouped['t'] = [x[1] for x in list(grouped.index)]\n",
    "grouped['max'] = grouped.apply(lambda row: 1 if row['timestamp'] == max_counts[row['c']] else 0, axis=1)\n",
    "grouped = grouped[grouped['max'] == 1]\n",
    "included = grouped.groupby('c').agg('count')\n",
    "included = set(included[included['max'] == 1].index)\n",
    "grouped = grouped[grouped['c'].isin(included)]\\\n",
    "    .reset_index()\\\n",
    "    .drop(['name', 'tower_id'], axis=1)\\\n",
    "    [['c', 't']].rename({'c':'name', 't':'tower_id'}, axis=1)\n",
    "assert len(merged[merged['tower_id_x'] != merged['tower_id_y']]) == 0"
   ]
  },
  {
   "cell_type": "markdown",
   "metadata": {},
   "source": [
    "### Mode of Modes"
   ]
  },
  {
   "cell_type": "code",
   "execution_count": null,
   "metadata": {},
   "outputs": [],
   "source": [
    "# This one is nearly impossible to test for with the synthetic data, there are not enough unique modes so \n",
    "# it's basically random"
   ]
  },
  {
   "cell_type": "markdown",
   "metadata": {},
   "source": [
    "### Maps"
   ]
  },
  {
   "cell_type": "code",
   "execution_count": null,
   "metadata": {},
   "outputs": [],
   "source": [
    "homes = home_locator.get_home_locations('count_days').rename({'subscriber_id':'name'}, axis=1)\n",
    "home_locator.map(algo='count_days', kind='population', voronoi=False)"
   ]
  },
  {
   "cell_type": "code",
   "execution_count": null,
   "metadata": {},
   "outputs": [],
   "source": [
    "home_locator.accuracy(algo='count_days')\n",
    "home_locator.map(algo='count_days', kind='precision', voronoi=False)\n",
    "home_locator.map(algo='count_days', kind='recall', voronoi=False)"
   ]
  },
  {
   "cell_type": "code",
   "execution_count": null,
   "metadata": {},
   "outputs": [],
   "source": []
  },
  {
   "cell_type": "code",
   "execution_count": null,
   "metadata": {},
   "outputs": [],
   "source": []
  }
 ],
 "metadata": {
  "kernelspec": {
   "display_name": "cider",
   "language": "python",
   "name": "cider"
  },
  "language_info": {
   "codemirror_mode": {
    "name": "ipython",
    "version": 3
   },
   "file_extension": ".py",
   "mimetype": "text/x-python",
   "name": "python",
   "nbconvert_exporter": "python",
   "pygments_lexer": "ipython3",
   "version": "3.7.10"
  }
 },
 "nbformat": 4,
 "nbformat_minor": 4
}
