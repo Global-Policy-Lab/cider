{
 "cells": [
  {
   "cell_type": "code",
   "execution_count": 3,
   "metadata": {},
   "outputs": [],
   "source": [
    "import sys\n",
    "sys.path.insert(0,'..')\n",
    "from helpers.utils import *\n",
    "from helpers.io_utils import *"
   ]
  },
  {
   "cell_type": "markdown",
   "metadata": {},
   "source": [
    "### CDR"
   ]
  },
  {
   "cell_type": "code",
   "execution_count": 5,
   "metadata": {},
   "outputs": [
    {
     "name": "stdout",
     "output_type": "stream",
     "text": [
      "+--------+----------+------------+-------------------+--------+--------------+-----------------+-------------+-------------------+\n",
      "|txn_type| caller_id|recipient_id|          timestamp|duration|caller_antenna|recipient_antenna|international|                day|\n",
      "+--------+----------+------------+-------------------+--------+--------------+-----------------+-------------+-------------------+\n",
      "|    call|ptudOnjdRU|  hZvsVsiGbO|2020-01-01 00:00:42|   253.0|          a101|              a54|     domestic|2020-01-01 00:00:00|\n",
      "|    text|UGDojtMoWq|  lpAchcvhBO|2020-01-01 00:02:04|    null|           a44|             a110|     domestic|2020-01-01 00:00:00|\n",
      "|    text|sQGOjnDvvt|  PGiqQSpzov|2020-01-01 00:02:12|    null|          a145|              a96|     domestic|2020-01-01 00:00:00|\n",
      "|    call|oPbUuvHBgi|  IdYycyWmjl|2020-01-01 00:02:23|    96.0|           a84|              a36|     domestic|2020-01-01 00:00:00|\n",
      "|    text|pSwWTbHbug|  sRLqqorjkH|2020-01-01 00:03:05|    null|          a261|             a268|     domestic|2020-01-01 00:00:00|\n",
      "+--------+----------+------------+-------------------+--------+--------------+-----------------+-------------+-------------------+\n",
      "only showing top 5 rows\n",
      "\n"
     ]
    }
   ],
   "source": [
    "# Test for correct CDR format\n",
    "cdr = load_cdr('../synthetic_data/cdr.csv')\n",
    "cdr.show(5)"
   ]
  },
  {
   "cell_type": "code",
   "execution_count": 6,
   "metadata": {},
   "outputs": [],
   "source": [
    "df = pd.read_csv('../synthetic_data/cdr.csv').rename({'interaction':'X'}, axis=1)\n",
    "df = df.where((pd.notnull(df)), None)\n",
    "try:\n",
    "    cdr = load_cdr(df=df)\n",
    "except ValueError:\n",
    "    pass"
   ]
  },
  {
   "cell_type": "code",
   "execution_count": 7,
   "metadata": {},
   "outputs": [],
   "source": [
    "# Test for interaction column\n",
    "df = pd.read_csv('../synthetic_data/cdr.csv')\n",
    "df['interaction'] = 'X'\n",
    "df = df.where((pd.notnull(df)), None)\n",
    "try:\n",
    "    cdr = load_cdr(df=df)\n",
    "except ValueError:\n",
    "    pass"
   ]
  },
  {
   "cell_type": "code",
   "execution_count": 8,
   "metadata": {},
   "outputs": [],
   "source": [
    "# Test for international column\n",
    "df = pd.read_csv('../synthetic_data/cdr.csv')\n",
    "df['international'] = 'XXX'\n",
    "df = df.where((pd.notnull(df)), None)\n",
    "try:\n",
    "    cdr = load_cdr(df=df)\n",
    "except ValueError:\n",
    "    pass"
   ]
  },
  {
   "cell_type": "markdown",
   "metadata": {},
   "source": [
    "### Recharges"
   ]
  },
  {
   "cell_type": "code",
   "execution_count": 10,
   "metadata": {},
   "outputs": [
    {
     "name": "stdout",
     "output_type": "stream",
     "text": [
      "+----------+------+-------------------+-------------------+\n",
      "| caller_id|amount|          timestamp|                day|\n",
      "+----------+------+-------------------+-------------------+\n",
      "|WzwHpoldPp|  96.0|2020-01-01 00:02:47|2020-01-01 00:00:00|\n",
      "|xkThzuCDAY|  73.0|2020-01-01 00:04:33|2020-01-01 00:00:00|\n",
      "|OtFfOxcGMu|  98.0|2020-01-01 00:08:36|2020-01-01 00:00:00|\n",
      "|pjjlDwunYH|   7.0|2020-01-01 00:14:37|2020-01-01 00:00:00|\n",
      "|RBDklSsXkt|  76.0|2020-01-01 00:24:36|2020-01-01 00:00:00|\n",
      "+----------+------+-------------------+-------------------+\n",
      "only showing top 5 rows\n",
      "\n"
     ]
    }
   ],
   "source": [
    "recharges = load_recharges('../synthetic_data/recharges.csv')\n",
    "recharges.show(5)"
   ]
  },
  {
   "cell_type": "markdown",
   "metadata": {},
   "source": [
    "### Mobile data"
   ]
  },
  {
   "cell_type": "code",
   "execution_count": 11,
   "metadata": {},
   "outputs": [
    {
     "name": "stdout",
     "output_type": "stream",
     "text": [
      "+----------+---------+-------------------+-------------------+\n",
      "| caller_id|   volume|          timestamp|                day|\n",
      "+----------+---------+-------------------+-------------------+\n",
      "|MJKWEawMBC| 91.38652|2020-01-01 00:01:15|2020-01-01 00:00:00|\n",
      "|yofaYDcyWJ|118.89835|2020-01-01 00:02:27|2020-01-01 00:00:00|\n",
      "|XstqtfmwLR| 67.68214|2020-01-01 00:16:33|2020-01-01 00:00:00|\n",
      "|ZxDgrIqzha| 65.52507|2020-01-01 00:23:37|2020-01-01 00:00:00|\n",
      "|oPbUuvHBgi| 99.46138|2020-01-01 00:41:44|2020-01-01 00:00:00|\n",
      "+----------+---------+-------------------+-------------------+\n",
      "only showing top 5 rows\n",
      "\n"
     ]
    }
   ],
   "source": [
    "mobiledata = load_mobiledata('../synthetic_data/mobiledata.csv')\n",
    "mobiledata.show(5)"
   ]
  },
  {
   "cell_type": "markdown",
   "metadata": {},
   "source": [
    "### Mobile money"
   ]
  },
  {
   "cell_type": "code",
   "execution_count": 12,
   "metadata": {},
   "outputs": [
    {
     "name": "stdout",
     "output_type": "stream",
     "text": [
      "-RECORD 0---------------------------------------\n",
      " txn_type                 | p2p                 \n",
      " caller_id                | NFKHIoqbNt          \n",
      " recipient_id             | bdvjmfSTsU          \n",
      " timestamp                | 2020-01-01 00:15:51 \n",
      " amount                   | 55.163315           \n",
      " sender_balance_before    | 324.21875           \n",
      " sender_balance_after     | 269.05542           \n",
      " recipient_balance_before | 112.54498           \n",
      " recipient_balance_after  | 167.7083            \n",
      " day                      | 2020-01-01 00:00:00 \n",
      "-RECORD 1---------------------------------------\n",
      " txn_type                 | cashout             \n",
      " caller_id                | yURSuqrHbG          \n",
      " recipient_id             | null                \n",
      " timestamp                | 2020-01-01 00:18:59 \n",
      " amount                   | 81.861              \n",
      " sender_balance_before    | 185.5762            \n",
      " sender_balance_after     | 103.7152            \n",
      " recipient_balance_before | null                \n",
      " recipient_balance_after  | null                \n",
      " day                      | 2020-01-01 00:00:00 \n",
      "-RECORD 2---------------------------------------\n",
      " txn_type                 | cashin              \n",
      " caller_id                | IvOrlIzYfz          \n",
      " recipient_id             | null                \n",
      " timestamp                | 2020-01-01 00:28:17 \n",
      " amount                   | 29.225048           \n",
      " sender_balance_before    | 98.63829            \n",
      " sender_balance_after     | 127.86334           \n",
      " recipient_balance_before | null                \n",
      " recipient_balance_after  | null                \n",
      " day                      | 2020-01-01 00:00:00 \n",
      "-RECORD 3---------------------------------------\n",
      " txn_type                 | p2p                 \n",
      " caller_id                | cyedGKnkBl          \n",
      " recipient_id             | hTYedXuVwS          \n",
      " timestamp                | 2020-01-01 00:28:29 \n",
      " amount                   | 45.561913           \n",
      " sender_balance_before    | 248.71838           \n",
      " sender_balance_after     | 203.15646           \n",
      " recipient_balance_before | 212.01639           \n",
      " recipient_balance_after  | 257.57828           \n",
      " day                      | 2020-01-01 00:00:00 \n",
      "-RECORD 4---------------------------------------\n",
      " txn_type                 | cashout             \n",
      " caller_id                | vAwnWzAdpz          \n",
      " recipient_id             | null                \n",
      " timestamp                | 2020-01-01 00:31:03 \n",
      " amount                   | 55.04077            \n",
      " sender_balance_before    | 150.88644           \n",
      " sender_balance_after     | 95.84567            \n",
      " recipient_balance_before | null                \n",
      " recipient_balance_after  | null                \n",
      " day                      | 2020-01-01 00:00:00 \n",
      "only showing top 5 rows\n",
      "\n"
     ]
    }
   ],
   "source": [
    "mobilemoney = load_mobilemoney('../synthetic_data/mobilemoney.csv')\n",
    "mobilemoney.show(5, truncate=True, vertical=True)"
   ]
  },
  {
   "cell_type": "code",
   "execution_count": 13,
   "metadata": {},
   "outputs": [],
   "source": [
    "df = pd.read_csv('../synthetic_data/mobilemoney.csv').rename({'txn_type':'X'}, axis=1)\n",
    "df = df.where((pd.notnull(df)), None)\n",
    "try:\n",
    "    mobilemoney = load_mobilemoney(df=df)\n",
    "except ValueError:\n",
    "    pass"
   ]
  },
  {
   "cell_type": "code",
   "execution_count": 14,
   "metadata": {},
   "outputs": [],
   "source": [
    "df = pd.read_csv('../synthetic_data/mobilemoney.csv')\n",
    "df['txn_type'] = 'X'\n",
    "df = df.where((pd.notnull(df)), None)\n",
    "try:\n",
    "    mobilemoney = load_mobilemoney(df=df)\n",
    "except ValueError:\n",
    "    pass"
   ]
  },
  {
   "cell_type": "code",
   "execution_count": null,
   "metadata": {},
   "outputs": [],
   "source": []
  }
 ],
 "metadata": {
  "kernelspec": {
   "display_name": "py3",
   "language": "python",
   "name": "py3"
  },
  "language_info": {
   "codemirror_mode": {
    "name": "ipython",
    "version": 3
   },
   "file_extension": ".py",
   "mimetype": "text/x-python",
   "name": "python",
   "nbconvert_exporter": "python",
   "pygments_lexer": "ipython3",
   "version": "3.7.7"
  }
 },
 "nbformat": 4,
 "nbformat_minor": 4
}
