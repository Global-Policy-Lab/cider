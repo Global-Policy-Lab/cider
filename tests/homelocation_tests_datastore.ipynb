{
 "cells": [
  {
   "cell_type": "code",
   "execution_count": 1,
   "metadata": {},
   "outputs": [
    {
     "ename": "ModuleNotFoundError",
     "evalue": "No module named 'rasterio'",
     "output_type": "error",
     "traceback": [
      "\u001b[1;31m---------------------------------------------------------------------------\u001b[0m",
      "\u001b[1;31mModuleNotFoundError\u001b[0m                       Traceback (most recent call last)",
      "\u001b[1;32m~\\AppData\\Local\\Temp/ipykernel_13572/2573067010.py\u001b[0m in \u001b[0;36m<module>\u001b[1;34m\u001b[0m\n\u001b[0;32m      2\u001b[0m \u001b[1;32mimport\u001b[0m \u001b[0mnumpy\u001b[0m \u001b[1;32mas\u001b[0m \u001b[0mnp\u001b[0m\u001b[1;33m\u001b[0m\u001b[1;33m\u001b[0m\u001b[0m\n\u001b[0;32m      3\u001b[0m \u001b[0msys\u001b[0m\u001b[1;33m.\u001b[0m\u001b[0mpath\u001b[0m\u001b[1;33m.\u001b[0m\u001b[0minsert\u001b[0m\u001b[1;33m(\u001b[0m\u001b[1;36m0\u001b[0m\u001b[1;33m,\u001b[0m\u001b[1;34m'..'\u001b[0m\u001b[1;33m)\u001b[0m\u001b[1;33m\u001b[0m\u001b[1;33m\u001b[0m\u001b[0m\n\u001b[1;32m----> 4\u001b[1;33m \u001b[1;32mfrom\u001b[0m \u001b[0mhome_location\u001b[0m \u001b[1;32mimport\u001b[0m \u001b[1;33m*\u001b[0m\u001b[1;33m\u001b[0m\u001b[1;33m\u001b[0m\u001b[0m\n\u001b[0m\u001b[0;32m      5\u001b[0m \u001b[1;33m\u001b[0m\u001b[0m\n\u001b[0;32m      6\u001b[0m \u001b[0mconfig_file\u001b[0m \u001b[1;33m=\u001b[0m \u001b[1;34m'../configs/config_new.yml'\u001b[0m\u001b[1;33m\u001b[0m\u001b[1;33m\u001b[0m\u001b[0m\n",
      "\u001b[1;32mD:\\College\\Fall 2021\\URAP\\cider\\home_location.py\u001b[0m in \u001b[0;36m<module>\u001b[1;34m\u001b[0m\n\u001b[0;32m     12\u001b[0m \u001b[1;32mfrom\u001b[0m \u001b[0mpyspark\u001b[0m\u001b[1;33m.\u001b[0m\u001b[0msql\u001b[0m\u001b[1;33m.\u001b[0m\u001b[0mfunctions\u001b[0m \u001b[1;32mimport\u001b[0m \u001b[0mcol\u001b[0m\u001b[1;33m,\u001b[0m \u001b[0mcount\u001b[0m\u001b[1;33m,\u001b[0m \u001b[0mcountDistinct\u001b[0m\u001b[1;33m,\u001b[0m \u001b[0mdesc_nulls_last\u001b[0m\u001b[1;33m,\u001b[0m \u001b[0mhour\u001b[0m\u001b[1;33m,\u001b[0m \u001b[0mrow_number\u001b[0m\u001b[1;33m\u001b[0m\u001b[1;33m\u001b[0m\u001b[0m\n\u001b[0;32m     13\u001b[0m \u001b[1;32mfrom\u001b[0m \u001b[0mpyspark\u001b[0m\u001b[1;33m.\u001b[0m\u001b[0msql\u001b[0m\u001b[1;33m.\u001b[0m\u001b[0mwindow\u001b[0m \u001b[1;32mimport\u001b[0m \u001b[0mWindow\u001b[0m\u001b[1;33m\u001b[0m\u001b[1;33m\u001b[0m\u001b[0m\n\u001b[1;32m---> 14\u001b[1;33m \u001b[1;32mimport\u001b[0m \u001b[0mrasterio\u001b[0m  \u001b[1;31m# type: ignore[import]\u001b[0m\u001b[1;33m\u001b[0m\u001b[1;33m\u001b[0m\u001b[0m\n\u001b[0m\u001b[0;32m     15\u001b[0m \u001b[1;32mfrom\u001b[0m \u001b[0mrasterio\u001b[0m\u001b[1;33m.\u001b[0m\u001b[0mmask\u001b[0m \u001b[1;32mimport\u001b[0m \u001b[0mmask\u001b[0m  \u001b[1;31m# type: ignore[import]\u001b[0m\u001b[1;33m\u001b[0m\u001b[1;33m\u001b[0m\u001b[0m\n\u001b[0;32m     16\u001b[0m \u001b[1;32mfrom\u001b[0m \u001b[0mshapely\u001b[0m\u001b[1;33m.\u001b[0m\u001b[0mgeometry\u001b[0m \u001b[1;32mimport\u001b[0m \u001b[0mmapping\u001b[0m  \u001b[1;31m# type: ignore[import]\u001b[0m\u001b[1;33m\u001b[0m\u001b[1;33m\u001b[0m\u001b[0m\n",
      "\u001b[1;31mModuleNotFoundError\u001b[0m: No module named 'rasterio'"
     ]
    }
   ],
   "source": [
    "import sys\n",
    "import numpy as np\n",
    "sys.path.insert(0,'..')\n",
    "from home_location import *\n",
    "\n",
    "config_file = '../configs/config_new.yml'"
   ]
  },
  {
   "cell_type": "markdown",
   "metadata": {},
   "source": [
    "### Load from pyspark dataframes"
   ]
  },
  {
   "cell_type": "code",
   "execution_count": null,
   "metadata": {},
   "outputs": [],
   "source": [
    "with open('../configs/config_min.yml', \"r\") as ymlfile:\n",
    "    cfg = Box(yaml.safe_load(ymlfile))\n",
    "            \n",
    "spark = get_spark_session(cfg)\n",
    "\n",
    "home_locator = HomeLocator('../configs/config_min.yml', dataframes={\n",
    "    'cdr':spark.read.csv('../synthetic_data/cdr.csv', header=True),\n",
    "    'antennas':spark.read.csv('../synthetic_data/antennas.csv', header=True),\n",
    "})"
   ]
  },
  {
   "cell_type": "markdown",
   "metadata": {},
   "source": [
    "### Load normally"
   ]
  },
  {
   "cell_type": "code",
   "execution_count": null,
   "metadata": {},
   "outputs": [],
   "source": [
    "home_locator = HomeLocator('../configs/config_emily.yml')"
   ]
  },
  {
   "cell_type": "code",
   "execution_count": null,
   "metadata": {},
   "outputs": [],
   "source": [
    "cdr = pd.read_csv('../synthetic_data/cdr.csv')\n",
    "outgoing = cdr[['caller_id', 'caller_antenna', 'timestamp']]\\\n",
    "    .rename({'caller_id':'name', 'caller_antenna':'antenna_id'}, axis=1)\n",
    "incoming = cdr[['recipient_id', 'recipient_antenna', 'timestamp']]\\\n",
    "    .rename({'recipient_id':'name', 'recipient_antenna':'antenna_id'}, axis=1)\n",
    "cdr = pd.concat([outgoing, incoming])\n",
    "antennas = pd.read_csv('../synthetic_data/antennas.csv')\n",
    "cdr = cdr.merge(antennas, on='antenna_id', how='inner')"
   ]
  },
  {
   "cell_type": "markdown",
   "metadata": {},
   "source": [
    "### Modal Tower"
   ]
  },
  {
   "cell_type": "code",
   "execution_count": null,
   "metadata": {},
   "outputs": [],
   "source": [
    "homes = home_locator.get_home_locations('count_transactions').rename({'subscriber_id':'name'}, axis=1)"
   ]
  },
  {
   "cell_type": "code",
   "execution_count": null,
   "metadata": {},
   "outputs": [],
   "source": [
    "grouped = pd.DataFrame(cdr.groupby('name')['tower_id'].agg(pd.Series.mode))\n",
    "grouped['tower_id'] = grouped['tower_id'].apply(lambda x:  x if ','.join(x)[1] == ',' else np.nan)\n",
    "grouped = grouped.dropna()\n",
    "merged = grouped.merge(homes, on='name')\n",
    "assert len(merged[merged['tower_id_x'] != merged['tower_id_y']]) == 0"
   ]
  },
  {
   "cell_type": "markdown",
   "metadata": {},
   "source": [
    "### Tower with Most Unique Days"
   ]
  },
  {
   "cell_type": "code",
   "execution_count": null,
   "metadata": {},
   "outputs": [],
   "source": [
    "homes = home_locator.get_home_locations('count_days').rename({'subscriber_id':'name'}, axis=1)"
   ]
  },
  {
   "cell_type": "code",
   "execution_count": null,
   "metadata": {},
   "outputs": [],
   "source": [
    "cdr['day'] = cdr['timestamp'].apply(lambda x: x[:10])\n",
    "grouped = pd.DataFrame(cdr.groupby(['name', 'tower_id'])['timestamp'].nunique())\n",
    "max_counts = grouped.groupby('name').agg('max')\n",
    "max_counts = max_counts.to_dict(orient='index')\n",
    "for key in list(max_counts.keys()):\n",
    "    max_counts[key] = max_counts[key]['timestamp']\n",
    "grouped['c'] = [x[0] for x in list(grouped.index)]\n",
    "grouped['t'] = [x[1] for x in list(grouped.index)]\n",
    "grouped['max'] = grouped.apply(lambda row: 1 if row['timestamp'] == max_counts[row['c']] else 0, axis=1)\n",
    "grouped = grouped[grouped['max'] == 1]\n",
    "included = grouped.groupby('c').agg('count')\n",
    "included = set(included[included['max'] == 1].index)\n",
    "grouped = grouped[grouped['c'].isin(included)]\\\n",
    "    .reset_index()\\\n",
    "    .drop(['name', 'tower_id'], axis=1)\\\n",
    "    [['c', 't']].rename({'c':'name', 't':'tower_id'}, axis=1)\n",
    "assert len(merged[merged['tower_id_x'] != merged['tower_id_y']]) == 0"
   ]
  },
  {
   "cell_type": "markdown",
   "metadata": {},
   "source": [
    "### Mode of Modes"
   ]
  },
  {
   "cell_type": "code",
   "execution_count": null,
   "metadata": {},
   "outputs": [],
   "source": [
    "# This one is nearly impossible to test for with the synthetic data, there are not enough unique modes so \n",
    "# it's basically random"
   ]
  },
  {
   "cell_type": "markdown",
   "metadata": {},
   "source": [
    "### Maps"
   ]
  },
  {
   "cell_type": "code",
   "execution_count": null,
   "metadata": {},
   "outputs": [],
   "source": [
    "homes = home_locator.get_home_locations('count_days').rename({'subscriber_id':'name'}, axis=1)\n",
    "home_locator.map(algo='count_days', kind='population', voronoi=False)"
   ]
  },
  {
   "cell_type": "code",
   "execution_count": null,
   "metadata": {},
   "outputs": [],
   "source": [
    "home_locator.accuracy(algo='count_days')\n",
    "home_locator.map(algo='count_days', kind='precision', voronoi=False)\n",
    "home_locator.map(algo='count_days', kind='recall', voronoi=False)"
   ]
  },
  {
   "cell_type": "code",
   "execution_count": null,
   "metadata": {},
   "outputs": [],
   "source": []
  },
  {
   "cell_type": "code",
   "execution_count": null,
   "metadata": {},
   "outputs": [],
   "source": []
  }
 ],
 "metadata": {
  "kernelspec": {
   "display_name": "cider",
   "language": "python",
   "name": "cider"
  },
  "language_info": {
   "codemirror_mode": {
    "name": "ipython",
    "version": 3
   },
   "file_extension": ".py",
   "mimetype": "text/x-python",
   "name": "python",
   "nbconvert_exporter": "python",
   "pygments_lexer": "ipython3",
   "version": "3.7.7"
  }
 },
 "nbformat": 4,
 "nbformat_minor": 4
}
