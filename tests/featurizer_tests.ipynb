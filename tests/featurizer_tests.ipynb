{
 "cells": [
  {
   "cell_type": "code",
   "execution_count": 1,
   "metadata": {},
   "outputs": [],
   "source": [
    "import sys\n",
    "sys.path.insert(0, '..')\n",
    "from featurizer import *\n",
    "import pandas as pd"
   ]
  },
  {
   "cell_type": "markdown",
   "metadata": {},
   "source": [
    "### Deduplicate"
   ]
  },
  {
   "cell_type": "code",
   "execution_count": 2,
   "metadata": {},
   "outputs": [
    {
     "name": "stdout",
     "output_type": "stream",
     "text": [
      "Loading CDR...\n",
      "Loading antennas...\n",
      "Warning: 10 antennas missing location\n",
      "Loading recharges...\n",
      "Loading mobile data...\n",
      "Loading mobile money...\n"
     ]
    }
   ],
   "source": [
    "featurizer = Featurizer('outputs/featurizer',\n",
    "                        cdr_fname='../synthetic_data/cdr.csv', \n",
    "                        antennas_fname = '../synthetic_data/antennas.csv',\n",
    "                        recharges_fname='../synthetic_data/recharges.csv',\n",
    "                        mobiledata_fname='../synthetic_data/mobiledata.csv',\n",
    "                        mobilemoney_fname='../synthetic_data/mobilemoney.csv')\n",
    "\n",
    "cdr = pd.read_csv('../synthetic_data/cdr.csv')\n",
    "recharges = pd.read_csv('../synthetic_data/recharges.csv')\n",
    "\n",
    "assert featurizer.cdr.count() == len(cdr)\n",
    "\n",
    "featurizer.cdr = featurizer.cdr.union(featurizer.cdr)\n",
    "featurizer.recharges = featurizer.recharges.union(featurizer.recharges)\n",
    "assert featurizer.cdr.count() == 2*len(cdr)\n",
    "assert featurizer.recharges.count() == 2*len(recharges)\n",
    "\n",
    "featurizer.deduplicate()\n",
    "assert featurizer.cdr.count() == len(cdr)\n",
    "assert featurizer.recharges.count() == len(recharges)"
   ]
  },
  {
   "cell_type": "markdown",
   "metadata": {},
   "source": [
    "### Filter Dates"
   ]
  },
  {
   "cell_type": "code",
   "execution_count": 3,
   "metadata": {},
   "outputs": [
    {
     "name": "stdout",
     "output_type": "stream",
     "text": [
      "Loading CDR...\n",
      "Loading recharges...\n",
      "Loading mobile data...\n",
      "Loading mobile money...\n"
     ]
    }
   ],
   "source": [
    "featurizer = Featurizer('outputs/featurizer',\n",
    "                        cdr_fname='../synthetic_data/cdr.csv', \n",
    "                        recharges_fname='../synthetic_data/recharges.csv',\n",
    "                        mobiledata_fname='../synthetic_data/mobiledata.csv',\n",
    "                        mobilemoney_fname='../synthetic_data/mobilemoney.csv')\n",
    "\n",
    "for df in [featurizer.cdr, featurizer.recharges, featurizer.mobiledata, featurizer.mobilemoney]:\n",
    "    assert df.agg({'day':'min'}).collect()[0][0] == pd.to_datetime('2020-01-01')\n",
    "    assert df.agg({'day':'max'}).collect()[0][0] == pd.to_datetime('2020-02-29')\n",
    "\n",
    "featurizer.filter_dates('2020-01-05', '2020-02-01')\n",
    "for df in [featurizer.cdr, featurizer.recharges, featurizer.mobiledata, featurizer.mobilemoney]:\n",
    "    assert df.agg({'day':'min'}).collect()[0][0] == pd.to_datetime('2020-01-05')\n",
    "    assert df.agg({'day':'max'}).collect()[0][0] == pd.to_datetime('2020-02-01')"
   ]
  },
  {
   "cell_type": "markdown",
   "metadata": {},
   "source": [
    "### Remove Spammers"
   ]
  },
  {
   "cell_type": "code",
   "execution_count": 26,
   "metadata": {},
   "outputs": [
    {
     "name": "stdout",
     "output_type": "stream",
     "text": [
      "Loading CDR...\n",
      "Loading recharges...\n",
      "Loading mobile data...\n",
      "Loading mobile money...\n",
      "Number of spammers identified: 1000\n",
      "Loading CDR...\n",
      "Loading recharges...\n",
      "Loading mobile data...\n",
      "Loading mobile money...\n",
      "Number of spammers identified: 615\n",
      "Loading CDR...\n",
      "Loading recharges...\n",
      "Loading mobile data...\n",
      "Loading mobile money...\n",
      "Number of spammers identified: 0\n"
     ]
    }
   ],
   "source": [
    "# Test for number of spammers identified\n",
    "\n",
    "for spammer_threshold in [0, 1.5, 2]:\n",
    "    \n",
    "    featurizer = Featurizer('outputs/featurizer',\n",
    "                            cdr_fname='../synthetic_data/cdr.csv', \n",
    "                            recharges_fname='../synthetic_data/recharges.csv',\n",
    "                            mobiledata_fname='../synthetic_data/mobiledata.csv',\n",
    "                            mobilemoney_fname='../synthetic_data/mobilemoney.csv')\n",
    "\n",
    "    spammers = len(featurizer.remove_spammers(spammer_threshold=spammer_threshold))\n",
    "    \n",
    "    cdr = pd.read_csv('../synthetic_data/cdr.csv')\n",
    "    cdr['timestamp'] = pd.to_datetime(cdr['timestamp'])\n",
    "    cdr['day'] = cdr['timestamp'].dt.date\n",
    "    grouped = cdr.groupby(['caller_id', 'txn_type']).agg({'day':['count', 'nunique']}).reset_index()\n",
    "    assert len(grouped[grouped['day']['count'] > spammer_threshold*grouped['day']['nunique']]['caller_id'].unique()) == spammers"
   ]
  },
  {
   "cell_type": "code",
   "execution_count": null,
   "metadata": {},
   "outputs": [],
   "source": [
    "# Test for removal of spammers\n",
    "\n",
    "spammer_threshold = 1\n",
    "\n",
    "featurizer = Featurizer('outputs/featurizer',\n",
    "                        cdr_fname='../synthetic_data/cdr.csv', \n",
    "                        recharges_fname='../synthetic_data/recharges.csv',\n",
    "                        mobiledata_fname='../synthetic_data/mobiledata.csv',\n",
    "                        mobilemoney_fname='../synthetic_data/mobilemoney.csv')\n",
    "\n",
    "spammers = featurizer.remove_spammers(spammer_threshold=spammer_threshold)\n",
    "\n",
    "for df in [featurizer.cdr, featurizer.topups, featurizer.mobiledata, featurizer.mobilemoney]:\n",
    "    \n",
    "    caller_ids = [item[0] for item in featurizer.cdr.select('caller_id').collect()]\n",
    "    assert set(spammers).intersection(set(caller_ids)) == set()\n",
    "    \n",
    "    if 'recipient_id' in df.columns:\n",
    "        recipient_ids = [item[0] for item in featurizer.cdr.select('caller_id').collect()]\n",
    "        assert set(spammers).intersection(set(recipient_ids)) == set()"
   ]
  },
  {
   "cell_type": "markdown",
   "metadata": {},
   "source": [
    "### Filter Outlier Days"
   ]
  },
  {
   "cell_type": "code",
   "execution_count": null,
   "metadata": {},
   "outputs": [],
   "source": [
    "# Test for number of days identified\n",
    "\n",
    "for num_sds in [1, 1.5, 2]:\n",
    "    featurizer = Featurizer('outputs/featurizer',\n",
    "                            cdr_fname='../synthetic_data/cdr.csv', \n",
    "                            recharges_fname='../synthetic_data/recharges.csv',\n",
    "                            mobiledata_fname='../synthetic_data/mobiledata.csv',\n",
    "                            mobilemoney_fname='../synthetic_data/mobilemoney.csv')\n",
    "\n",
    "    outliers = [pd.to_datetime(item).tz_localize(None) for item in featurizer.filter_outlier_days(num_sds)]\n",
    "\n",
    "    cdr = pd.read_csv('../synthetic_data/cdr.csv')\n",
    "    cdr['timestamp'] = pd.to_datetime(cdr['timestamp'])\n",
    "    cdr['day'] = cdr['timestamp'].dt.floor('d')\n",
    "    grouped = cdr.groupby('day', as_index=False).agg('count')\n",
    "    u = grouped['txn_type'].mean() + num_sds*grouped['txn_type'].std()\n",
    "    l = grouped['txn_type'].mean() - num_sds*grouped['txn_type'].std()\n",
    "    outliers_manual = grouped[(grouped['txn_type'] < l) | (grouped['txn_type'] > u)]['day'].astype('object')\n",
    "    assert list(outliers_manual.unique()) == outliers"
   ]
  },
  {
   "cell_type": "code",
   "execution_count": null,
   "metadata": {},
   "outputs": [],
   "source": [
    "# Test for removal of days\n",
    "\n",
    "num_sds = 2\n",
    "\n",
    "featurizer = Featurizer('outputs/featurizer',\n",
    "                        cdr_fname='../synthetic_data/cdr.csv', \n",
    "                        recharges_fname='../synthetic_data/recharges.csv',\n",
    "                        mobiledata_fname='../synthetic_data/mobiledata.csv',\n",
    "                        mobilemoney_fname='../synthetic_data/mobilemoney.csv')\n",
    "\n",
    "original_counts = []\n",
    "for df in [featurizer.cdr, featurizer.recharges, featurizer.mobiledata, featurizer.mobilemoney]:\n",
    "    original_counts.append(df.select('day').distinct().count())\n",
    "    \n",
    "num_outliers = len(featurizer.filter_outlier_days(num_sds))\n",
    "\n",
    "for d, df in enumerate([featurizer.cdr, featurizer.recharges, featurizer.mobiledata, featurizer.mobilemoney]):\n",
    "    assert(df.select('day').distinct().count() == original_counts[d] - num_outliers)"
   ]
  },
  {
   "cell_type": "markdown",
   "metadata": {},
   "source": [
    "### Diagnostic Statistics"
   ]
  },
  {
   "cell_type": "code",
   "execution_count": null,
   "metadata": {},
   "outputs": [],
   "source": [
    "featurizer = Featurizer('outputs/featurizer',\n",
    "                        cdr_fname='../synthetic_data/cdr.csv', \n",
    "                        recharges_fname='../synthetic_data/recharges.csv',\n",
    "                        mobiledata_fname='../synthetic_data/mobiledata.csv',\n",
    "                        mobilemoney_fname='../synthetic_data/mobilemoney.csv')\n",
    "\n",
    "statistics = featurizer.diagnostic_statistics('test_output')\n",
    "\n",
    "for fname, name in [('cdr', 'CDR')]:\n",
    "    \n",
    "    df = pd.read_csv('../synthetic_data/' + fname + '.csv')\n",
    "    df['timestamp'] = pd.to_datetime(df['timestamp'])\n",
    "    \n",
    "    assert((df['timestamp'].max() - df['timestamp'].min()).days + 1 == statistics[name]['Days'])\n",
    "    assert(len(df) == statistics[name]['Transactions'])\n",
    "    assert(len(df['caller_id'].unique()) == statistics[name]['Subscribers'])\n",
    "    if 'recipient_id' in df.columns:\n",
    "        assert(len(df['recipient_id'].unique()) == statistics[name]['Recipients'])"
   ]
  },
  {
   "cell_type": "markdown",
   "metadata": {},
   "source": [
    "### Diagnostic Plots"
   ]
  },
  {
   "cell_type": "code",
   "execution_count": null,
   "metadata": {},
   "outputs": [],
   "source": [
    "featurizer = Featurizer('outputs/featurizer',\n",
    "                        cdr_fname='../synthetic_data/cdr.csv', \n",
    "                        recharges_fname='../synthetic_data/recharges.csv',\n",
    "                        mobiledata_fname='../synthetic_data/mobiledata.csv',\n",
    "                        mobilemoney_fname='../synthetic_data/mobilemoney.csv')\n",
    "\n",
    "featurizer.diagnostic_plots('test_output')"
   ]
  },
  {
   "cell_type": "markdown",
   "metadata": {},
   "source": [
    "### CDR Features"
   ]
  },
  {
   "cell_type": "code",
   "execution_count": null,
   "metadata": {},
   "outputs": [],
   "source": [
    "featurizer = Featurizer('outputs/featurizer',\n",
    "                        cdr_fname='../synthetic_data/cdr.csv', \n",
    "                        antennas_fname = '../synthetic_data/antennas.csv',\n",
    "                        recharges_fname='../synthetic_data/recharges.csv',\n",
    "                        mobiledata_fname='../synthetic_data/mobiledata.csv',\n",
    "                        mobilemoney_fname='../synthetic_data/mobilemoney.csv',\n",
    "                        shapefiles={'regions':'../synthetic_data/regions.geojson', \n",
    "                                    'prefectures':'../synthetic_data/prefectures.geojson'})\n",
    "featurizer.cdr_features()\n",
    "featurizer.international_features()\n",
    "featurizer.location_features()\n",
    "featurizer.recharges_features()\n",
    "featurizer.mobiledata_features()\n",
    "featurizer.mobilemoney_features()\n",
    "featurizer.all_features()"
   ]
  },
  {
   "cell_type": "code",
   "execution_count": null,
   "metadata": {},
   "outputs": [],
   "source": [
    "featurizer.feature_plots()"
   ]
  },
  {
   "cell_type": "code",
   "execution_count": null,
   "metadata": {},
   "outputs": [],
   "source": []
  }
 ],
 "metadata": {
  "kernelspec": {
   "display_name": "cider",
   "language": "python",
   "name": "cider"
  },
  "language_info": {
   "codemirror_mode": {
    "name": "ipython",
    "version": 3
   },
   "file_extension": ".py",
   "mimetype": "text/x-python",
   "name": "python",
   "nbconvert_exporter": "python",
   "pygments_lexer": "ipython3",
   "version": "3.7.7"
  }
 },
 "nbformat": 4,
 "nbformat_minor": 4
}
