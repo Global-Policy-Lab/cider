{
 "cells": [
  {
   "cell_type": "code",
   "execution_count": 2,
   "metadata": {},
   "outputs": [],
   "source": [
    "import sys\n",
    "sys.path.insert(0,'..')\n",
    "from ml import *"
   ]
  },
  {
   "cell_type": "code",
   "execution_count": null,
   "metadata": {},
   "outputs": [
    {
     "name": "stdout",
     "output_type": "stream",
     "text": [
      "Number of observations with features: 1000 (1000 unique)\n",
      "Number of observations with labels: 50 (50 unique)\n",
      "Number of matched observations: 50 (50 unique)\n"
     ]
    }
   ],
   "source": [
    "learner = Learner('outputs/machinelearning', \n",
    "             'outputs/featurizer/datasets/features.csv',\n",
    "            '../synthetic_data/labels.csv')\n",
    "learner.merge()\n",
    "learner.tuned_model('lasso')\n",
    "learner.oos_predictions('lasso', tuned=True)\n",
    "learner.population_predictions('lasso', tuned=True)\n",
    "\n",
    "learner.scatter_plot('lasso', tuned=True)\n",
    "learner.feature_importances_plot('lasso', tuned=True)\n",
    "learner.targeting_table('lasso', tuned=True)"
   ]
  },
  {
   "cell_type": "code",
   "execution_count": null,
   "metadata": {},
   "outputs": [],
   "source": []
  }
 ],
 "metadata": {
  "kernelspec": {
   "display_name": "practice3",
   "language": "python",
   "name": "practice3"
  },
  "language_info": {
   "codemirror_mode": {
    "name": "ipython",
    "version": 3
   },
   "file_extension": ".py",
   "mimetype": "text/x-python",
   "name": "python",
   "nbconvert_exporter": "python",
   "pygments_lexer": "ipython3",
   "version": "3.7.7"
  }
 },
 "nbformat": 4,
 "nbformat_minor": 4
}
