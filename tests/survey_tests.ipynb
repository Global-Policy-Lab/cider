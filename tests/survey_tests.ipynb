{
 "cells": [
  {
   "cell_type": "code",
   "execution_count": 10,
   "metadata": {},
   "outputs": [],
   "source": [
    "import sys\n",
    "import numpy as np\n",
    "sys.path.insert(0,'..')\n",
    "from survey import *"
   ]
  },
  {
   "cell_type": "code",
   "execution_count": 11,
   "metadata": {},
   "outputs": [],
   "source": [
    "outcomes_generator = SurveyOutcomeGenerator('../configs/config_emily.yml')"
   ]
  },
  {
   "cell_type": "code",
   "execution_count": 12,
   "metadata": {},
   "outputs": [
    {
     "name": "stdout",
     "output_type": "stream",
     "text": [
      "Warning: Dropping 192 observations with missing values (19 percent of all observations)\n",
      "PCA variance explained: 6.46%\n",
      "Warning: Dropping 192 observations with missing values (19 percent of all observations)\n",
      "PCA variance explained: 7.04%\n",
      "Correlation between weighted and unweighted asset indices: 0.58\n"
     ]
    }
   ],
   "source": [
    "index1 = outcomes_generator.asset_index(cols=['q' + str(i) for i in range(20)], use_weights=False)\n",
    "index2 = outcomes_generator.asset_index(cols=['q' + str(i) for i in range(20)], use_weights=True)\n",
    "print('Correlation between weighted and unweighted asset indices: %.2f' % \n",
    "      np.corrcoef(index1['asset_index'].values, index2['asset_index'].values)[0][1])"
   ]
  },
  {
   "cell_type": "code",
   "execution_count": null,
   "metadata": {},
   "outputs": [],
   "source": []
  }
 ],
 "metadata": {
  "kernelspec": {
   "display_name": "cider",
   "language": "python",
   "name": "my_env"
  },
  "language_info": {
   "codemirror_mode": {
    "name": "ipython",
    "version": 3
   },
   "file_extension": ".py",
   "mimetype": "text/x-python",
   "name": "python",
   "nbconvert_exporter": "python",
   "pygments_lexer": "ipython3",
   "version": "3.7.7"
  }
 },
 "nbformat": 4,
 "nbformat_minor": 4
}
