{
 "cells": [
  {
   "cell_type": "code",
   "execution_count": null,
   "metadata": {},
   "outputs": [],
   "source": [
    "import sys\n",
    "import numpy as np\n",
    "sys.path.insert(0,'..')\n",
    "from survey import *\n"
   ]
  },
  {
   "cell_type": "code",
   "execution_count": null,
   "metadata": {},
   "outputs": [],
   "source": [
    "outcomes_generator = SurveyOutcomeGenerator('../configs/config_emily.yml')"
   ]
  },
  {
   "cell_type": "code",
   "execution_count": null,
   "metadata": {},
   "outputs": [],
   "source": [
    "index1 = outcomes_generator.asset_index(cols=['con' + str(i) for i in range(10)] + \\\n",
    "                                        ['bin' + str(i) for i in range(10)], use_weights=False)\n",
    "index2 = outcomes_generator.asset_index(cols=['con' + str(i) for i in range(10)] + \\\n",
    "                                        ['bin' + str(i) for i in range(10)], use_weights=True)\n",
    "print('Correlation between weighted and unweighted asset indices: %.2f' % \n",
    "      np.corrcoef(index1['asset_index'].values, index2['asset_index'].values)[0][1])"
   ]
  },
  {
   "cell_type": "code",
   "execution_count": null,
   "metadata": {},
   "outputs": [],
   "source": [
    "cols = ['con' + str(i) for i in range(10)] + ['bin' + str(i) for i in range(10)] + \\\n",
    "    ['cat' + str(i) for i in range(10)]\n",
    "predictions = outcomes_generator.fit_pmt('consumption', cols, model_name='linear', winsorize=False, scale=False)"
   ]
  },
  {
   "cell_type": "code",
   "execution_count": null,
   "metadata": {},
   "outputs": [],
   "source": [
    "predictions = outcomes_generator.pretrained_pmt('../synthetic_data/survey.csv', cols, 'linear')"
   ]
  },
  {
   "cell_type": "code",
   "execution_count": null,
   "metadata": {},
   "outputs": [],
   "source": [
    "altered_data = pd.read_csv('../synthetic_data/survey.csv')\n",
    "altered_data = altered_data.drop('bin0', axis=1)\n",
    "try:\n",
    "    predictions = outcomes_generator.pretrained_pmt(altered_data, cols, 'linear')\n",
    "except ValueError:\n",
    "    pass"
   ]
  },
  {
   "cell_type": "code",
   "execution_count": null,
   "metadata": {},
   "outputs": [],
   "source": [
    "altered_data = pd.read_csv('../synthetic_data/survey.csv')\n",
    "altered_data['cat1'] = altered_data['cat1'] + 1\n",
    "altered_data['con1'] = altered_data['con1'] + 1\n",
    "predictions = outcomes_generator.pretrained_pmt(altered_data, cols, 'linear')"
   ]
  },
  {
   "cell_type": "code",
   "execution_count": null,
   "metadata": {},
   "outputs": [],
   "source": []
  }
 ],
 "metadata": {
  "kernelspec": {
   "display_name": "cider",
   "language": "python",
   "name": "my_env"
  },
  "language_info": {
   "codemirror_mode": {
    "name": "ipython",
    "version": 3
   },
   "file_extension": ".py",
   "mimetype": "text/x-python",
   "name": "python",
   "nbconvert_exporter": "python",
   "pygments_lexer": "ipython3",
   "version": "3.7.7"
  }
 },
 "nbformat": 4,
 "nbformat_minor": 4
}
