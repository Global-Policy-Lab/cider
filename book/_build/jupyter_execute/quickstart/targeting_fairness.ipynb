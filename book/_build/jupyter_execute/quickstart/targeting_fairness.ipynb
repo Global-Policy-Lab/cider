{
 "cells": [
  {
   "cell_type": "markdown",
   "id": "e45ecf5d",
   "metadata": {},
   "source": [
    "## Targeting and Fairness Evaluations\n",
    "Set up the configuration file and load some survey data (see {doc}`standardized data formats <../data_formats/survey_data>`) for file schema). \n",
    "\n",
    "```\n",
    "config.yml\n",
    "\n",
    "path:\n",
    "  targeting:\n",
    "    data: \"/path/to/data/directory\"\n",
    "    outputs: \"/path/to/output/directory\"\n",
    "    file_names:\n",
    "      data: '/targeting_fairness_data.csv'\n",
    "  fairness:\n",
    "    data: \"/path/to/data/directory\"\n",
    "    outputs: \"/path/to/data/directory\"\n",
    "    file_names:\n",
    "      data: '/targeting_fairness_data.csv'\n",
    "```"
   ]
  },
  {
   "cell_type": "code",
   "execution_count": null,
   "id": "7ce28c83",
   "metadata": {},
   "outputs": [],
   "source": [
    "outcome_generator = Targeting('/path/to/config/file', clean_folders=True)"
   ]
  },
  {
   "cell_type": "markdown",
   "id": "6cc5d22f",
   "metadata": {},
   "source": [
    "Create a table that compares targeting methods to a ground truth poverty measure. Three threshold-agnostic targeting metrics will be calculated: Pearson correlation (between ground truth and proxies), Spearman correlation, and a threshold-agnostic Area Under the Reciever Operating Characteristic Curve Score (AUC). Additionally, provide percentile targeting thresholds for ground truth and proxy to obtain four threshold-specific targeting metrics: accuracy, precision, recall, and threshold-specific AUC. Calculations can be performed with or without sample weights."
   ]
  },
  {
   "cell_type": "code",
   "execution_count": null,
   "id": "eb3095a8",
   "metadata": {},
   "outputs": [],
   "source": [
    "targeting.targeting_table('ground_truth', ['proxy1', 'proxy2', 'proxy3', 'proxy4'], 50, 10, weighted=False)"
   ]
  },
  {
   "cell_type": "markdown",
   "id": "bca60df3",
   "metadata": {},
   "source": [
    "Draw threshold-agnostic receiver operatoring characteristic (ROC) curves and precision-recall curves. Threshold-agnostic ROC curves are drawn by taking a grid matched targeting thresholds (that is, targeting K% of the population according to a proxy and the same K% of the population according to the ground-truth, for a krid of K between 0 and 100), and calculating the false positive rate and true positive rate of the targeting method for each point in the grid. Threshold-agnostic precision-reccall curves are calculated in the same way, so precision and recall are balanced by construction."
   ]
  },
  {
   "cell_type": "code",
   "execution_count": null,
   "id": "33b2f6fd",
   "metadata": {},
   "outputs": [],
   "source": [
    "targeting.roc_curves('ground_truth', ['proxy1', 'proxy2', 'proxy3', 'proxy4'], p=None, weighted=False)\n",
    "targeting.precision_recall_curves('ground_truth', ['proxy1', 'proxy2', 'proxy3', 'proxy4'], p=50, weighted=False)"
   ]
  },
  {
   "cell_type": "markdown",
   "id": "fe0cd8ab",
   "metadata": {},
   "source": [
    "Draw threshold-specific ROC curves and precision-recall curves. Threshold-specific ROC curves are calculated by holding the share of the population targeted according to the ground-truth measure constant, and varying the share of the population targeted on the proxy measure to obtain false positive and true positive rate trade-offs."
   ]
  },
  {
   "cell_type": "code",
   "execution_count": null,
   "id": "c5bb4e1a",
   "metadata": {},
   "outputs": [],
   "source": [
    "targeting.roc_curves('ground_truth', ['proxy1', 'proxy2', 'proxy3', 'proxy4'], p=50, weighted=False)\n",
    "targeting.precision_recall_curves('ground_truth', ['proxy1', 'proxy2', 'proxy3', 'proxy4'], p=50, weighted=False)"
   ]
  },
  {
   "cell_type": "markdown",
   "id": "4d2f7636",
   "metadata": {},
   "source": [
    "Provide a budget (provided as the level of benefits assigned to each individual UBI program, in the same units as the ground truth poverty measure) to draw social welfare curves for a set of targeting methods. Individual welfare is assumed to be a convex function of pre-program poverty and benefits assigned. Generate a table with the share of population targeted and corresponding transfer size that optimizes social welfare for each proxy poverty measure that could be used for targeting."
   ]
  },
  {
   "cell_type": "code",
   "execution_count": null,
   "id": "9c7883f1",
   "metadata": {},
   "outputs": [],
   "source": [
    "targeting.utility_curves('ground_truth', ['proxy1', 'proxy2', 'proxy3', 'proxy4'], 0.01, weighted=False)\n",
    "targeting.utility_table('ground_truth', ['proxy1', 'proxy2', 'proxy3', 'proxy4'], 0.01, weighted=False)"
   ]
  }
 ],
 "metadata": {
  "jupytext": {
   "formats": "md:myst",
   "text_representation": {
    "extension": ".md",
    "format_name": "myst"
   }
  },
  "kernelspec": {
   "display_name": "Python 3",
   "language": "python",
   "name": "python3"
  },
  "source_map": [
   11,
   32,
   34,
   38,
   40,
   44,
   47,
   51,
   54,
   58
  ]
 },
 "nbformat": 4,
 "nbformat_minor": 5
}