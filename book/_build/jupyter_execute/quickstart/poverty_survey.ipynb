{
 "cells": [
  {
   "cell_type": "markdown",
   "id": "35410a8f",
   "metadata": {},
   "source": [
    "## Poverty Outcome Generation from Survey Data\n",
    "Set up the configuration file and load some survey data (see {doc}`standardized data formats <../data_formats/placeholder>` for file schema). \n",
    "\n",
    "```\n",
    "config.yml\n",
    "\n",
    "path:\n",
    "    survey: '/path/to/survey/data/directory'\n",
    "    outputs: '/path/to/directory/to/save/outputs/'\n",
    "    file_names:\n",
    "        survey: '/survey_file_name.csv'\n",
    "    \n",
    "    col_types:\n",
    "        survey: \n",
    "            continuous: ['con1', 'con2', 'con3']\n",
    "            categorical: ['cat1', 'cat2', 'cat3']\n",
    "            binary: ['bin1', 'bin2', 'bin3']\n",
    "```"
   ]
  },
  {
   "cell_type": "code",
   "execution_count": null,
   "id": "4f267967",
   "metadata": {},
   "outputs": [],
   "source": [
    "outcome_generator = SurveyOutcomesGenerator('/path/to/config/file', clean_folders=True)"
   ]
  },
  {
   "cell_type": "markdown",
   "id": "a0ed65dc",
   "metadata": {},
   "source": [
    "Calculate PCA asset index and proxy-means test (PMT). Only use binary and continuous columns in the asset index."
   ]
  },
  {
   "cell_type": "code",
   "execution_count": null,
   "id": "6db874f2",
   "metadata": {},
   "outputs": [],
   "source": [
    "asset_index = outcomes_generator.asset_index(cols=['con1', 'con2', 'bin1', 'bin2'])"
   ]
  },
  {
   "cell_type": "markdown",
   "id": "b1bbb5b8",
   "metadata": {},
   "source": [
    "Select five components to be used in the proxy-means test using forward selection of predictors with a linear regression. Calculate a proxy-means test with these components and obtain out-of-sample PMT predictions for the training survey."
   ]
  },
  {
   "cell_type": "code",
   "execution_count": null,
   "id": "a73663f7",
   "metadata": {},
   "outputs": [],
   "source": [
    "selected_cols, scores = outcomes_generator\\\n",
    "                        .select_features('consumption',\n",
    "                                         ['con1', 'con2', 'cat1', 'cat2', 'bin1', 'bin2'], \n",
    "                                         5, \n",
    "                                         method=LinearRegession())\n",
    "pmt = outcomes_generator.fit_pmt('consumption', \n",
    "                                 selected_cols, \n",
    "                                 model_name='linear', \n",
    "                                 winsorize=False, \n",
    "                                 scale=True)"
   ]
  },
  {
   "cell_type": "markdown",
   "id": "d6ea06bf",
   "metadata": {},
   "source": [
    "[OUT] r2 score: 0.56\n",
    "\n",
    "\n",
    "Use the trained proxy-means test on another survey dataset."
   ]
  },
  {
   "cell_type": "code",
   "execution_count": null,
   "id": "35baf089",
   "metadata": {},
   "outputs": [],
   "source": [
    "predictions = outcomes_generator.pretrained_pmt('/path/to/other/data.csv', selected_cols, 'linear')"
   ]
  }
 ],
 "metadata": {
  "jupytext": {
   "formats": "md:myst",
   "text_representation": {
    "extension": ".md",
    "format_name": "myst"
   }
  },
  "kernelspec": {
   "display_name": "Python 3",
   "language": "python",
   "name": "python3"
  },
  "source_map": [
   11,
   32,
   34,
   38,
   40,
   44,
   55,
   62
  ]
 },
 "nbformat": 4,
 "nbformat_minor": 5
}