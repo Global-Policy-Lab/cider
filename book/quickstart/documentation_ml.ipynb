{
 "cells": [
  {
   "cell_type": "markdown",
   "id": "96d8501c",
   "metadata": {},
   "source": [
    "# Machine Learning"
   ]
  },
  {
   "cell_type": "code",
   "execution_count": null,
   "id": "ec77078c",
   "metadata": {},
   "outputs": [],
   "source": [
    "import sys\n",
    "sys.path.insert(0,'..')\n",
    "from datastore import DataStore\n",
    "from ml import Learner"
   ]
  },
  {
   "cell_type": "markdown",
   "id": "7f3fd778",
   "metadata": {},
   "source": [
    "Initialize data store object, then learner, automatically loading feature file produced by featurizer, along with file of data labels, and merging features to labels."
   ]
  },
  {
   "cell_type": "code",
   "execution_count": null,
   "id": "44d61e7d",
   "metadata": {},
   "outputs": [],
   "source": [
    "datastore = DataStore(cfg_dir='../configs/config.yml')\n",
    "learner = Learner(datastore=datastore, clean_folders=True)"
   ]
  },
  {
   "cell_type": "markdown",
   "id": "be520940",
   "metadata": {},
   "source": [
    "Experiment quickly with untuned models to get a sense of accuracy. Lasso, Ridge, random forest, and gradient boosting models are implemented natively, other models can be implemented by hand."
   ]
  },
  {
   "cell_type": "code",
   "execution_count": null,
   "id": "7060dbd4",
   "metadata": {},
   "outputs": [],
   "source": [
    "lasso_scores = learner.untuned_model('lasso')\n",
    "randomforest_scores = learner.untuned_model('randomforest')\n",
    "print('LASSO', lasso_scores)\n",
    "print('Random Forest', randomforest_scores)"
   ]
  },
  {
   "cell_type": "markdown",
   "id": "feeb0a77",
   "metadata": {},
   "source": [
    "Fine-tune a gradient boosting model, tuning hyperparameters over cross validation, and produce predictions for all labeled observations out-of-sample over cross-validation. Also generate predictions for all subscribers in the feature dataset. "
   ]
  },
  {
   "cell_type": "code",
   "execution_count": null,
   "id": "0702d156",
   "metadata": {},
   "outputs": [],
   "source": [
    "gradientboosting_scores = learner.tuned_model('gradientboosting')\n",
    "print('Gradient Boosting (Tuned)', gradientboosting_scores)\n",
    "learner.oos_predictions('gradientboosting', kind='tuned')\n",
    "learner.population_predictions('gradientboosting', kind='tuned')"
   ]
  },
  {
   "cell_type": "markdown",
   "id": "b9e04d2e",
   "metadata": {},
   "source": [
    "Evaluate the model’s accuracy. Produce a scatterplot of true vs. predicted values with a LOESS fit and a bar plot of the most important features. Generate a table showing the targeting accuracy, precision, and recall of the predictions for nine hypothetical targeting scenarios (targeting between 10% and 90% of the population). "
   ]
  },
  {
   "cell_type": "code",
   "execution_count": null,
   "id": "62e500d0",
   "metadata": {},
   "outputs": [],
   "source": [
    "learner.scatter_plot('gradientboosting', kind='tuned')\n",
    "learner.feature_importances_plot('gradientboosting', kind='tuned')\n",
    "learner.targeting_table('gradientboosting', kind='tuned')"
   ]
  }
 ],
 "metadata": {
  "kernelspec": {
   "display_name": "cider",
   "language": "python",
   "name": "cider"
  },
  "language_info": {
   "codemirror_mode": {
    "name": "ipython",
    "version": 3
   },
   "file_extension": ".py",
   "mimetype": "text/x-python",
   "name": "python",
   "nbconvert_exporter": "python",
   "pygments_lexer": "ipython3",
   "version": "3.7.7"
  }
 },
 "nbformat": 4,
 "nbformat_minor": 5
}
