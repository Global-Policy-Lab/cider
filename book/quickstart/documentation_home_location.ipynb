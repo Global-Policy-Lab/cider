{
 "cells": [
  {
   "cell_type": "markdown",
   "id": "96d8501c",
   "metadata": {},
   "source": [
    "# Home Location Inference"
   ]
  },
  {
   "cell_type": "code",
   "execution_count": null,
   "id": "ec77078c",
   "metadata": {},
   "outputs": [],
   "source": [
    "import sys\n",
    "sys.path.insert(0,'..')\n",
    "from datastore import DataStore\n",
    "from home_location import HomeLocator"
   ]
  },
  {
   "cell_type": "markdown",
   "id": "7f3fd778",
   "metadata": {},
   "source": [
    "Load some CDR data, antennas data, and (optionally) spatial files, whose paths have been defined in `config.yml`. Define the geographic granularity for inference (options are ‘antenna_id’, ‘tower_id’ if a tower_id is provided in the antennas files, or any of the spatial files). Optionally load wealth prediction data to construct a poverty map and ground truth location data to evaluate accuracy."
   ]
  },
  {
   "cell_type": "code",
   "execution_count": null,
   "id": "44d61e7d",
   "metadata": {},
   "outputs": [],
   "source": [
    "datastore = DataStore(cfg_dir='../configs/config.yml')\n",
    "home_locator = HomeLocator(datastore=datastore, clean_folders=True)"
   ]
  },
  {
   "cell_type": "markdown",
   "id": "be520940",
   "metadata": {},
   "source": [
    "Filter to a specific date range."
   ]
  },
  {
   "cell_type": "code",
   "execution_count": null,
   "id": "7060dbd4",
   "metadata": {},
   "outputs": [],
   "source": [
    "home_locator.ds.filter_dates('2020-01-05', '2020-02-01')"
   ]
  },
  {
   "cell_type": "markdown",
   "id": "feeb0a77",
   "metadata": {},
   "source": [
    "Try running the three different home location algorithms."
   ]
  },
  {
   "cell_type": "code",
   "execution_count": null,
   "id": "0702d156",
   "metadata": {},
   "outputs": [],
   "source": [
    "home_locator.get_home_locations(algo='count_transactions')\n",
    "home_locator.get_home_locations(algo='count_days')\n",
    "home_locator.get_home_locations(algo='count_modal_days')"
   ]
  },
  {
   "cell_type": "markdown",
   "id": "b9e04d2e",
   "metadata": {},
   "source": [
    "Generate a population map based on inferred home locations using the unique days algorithm. Use points at each of the tower locations."
   ]
  },
  {
   "cell_type": "code",
   "execution_count": null,
   "id": "62e500d0",
   "metadata": {},
   "outputs": [],
   "source": [
    "home_locator.map(algo='count_days', kind='population', voronoi=False)"
   ]
  },
  {
   "cell_type": "markdown",
   "id": "ab7eea79",
   "metadata": {},
   "source": [
    "Evaluate the accuracy of the home location inference using the ground truth data. Generate maps and a table of precision and recall for each tower."
   ]
  },
  {
   "cell_type": "code",
   "execution_count": null,
   "id": "ed688b3c",
   "metadata": {},
   "outputs": [],
   "source": [
    "home_locator.accuracy(algo='count_days')\n",
    "home_locator.map(algo = 'count_days', kind='recall', voronoi=False)"
   ]
  },
  {
   "cell_type": "code",
   "execution_count": null,
   "id": "dac9907e",
   "metadata": {},
   "outputs": [],
   "source": [
    "home_locator.accuracy_tables['count_days'].head()"
   ]
  },
  {
   "cell_type": "markdown",
   "id": "02307268",
   "metadata": {},
   "source": [
    "Use population density maps to identify which areas are over/under-represented in your sample."
   ]
  },
  {
   "cell_type": "code",
   "execution_count": null,
   "id": "8f2fb066",
   "metadata": {},
   "outputs": [],
   "source": [
    "home_locator.pop_comparison(algo='count_days')"
   ]
  },
  {
   "cell_type": "code",
   "execution_count": null,
   "id": "bca683f3",
   "metadata": {},
   "outputs": [],
   "source": []
  }
 ],
 "metadata": {
  "kernelspec": {
   "display_name": "cider",
   "language": "python",
   "name": "cider"
  },
  "language_info": {
   "codemirror_mode": {
    "name": "ipython",
    "version": 3
   },
   "file_extension": ".py",
   "mimetype": "text/x-python",
   "name": "python",
   "nbconvert_exporter": "python",
   "pygments_lexer": "ipython3",
   "version": "3.7.7"
  }
 },
 "nbformat": 4,
 "nbformat_minor": 5
}
