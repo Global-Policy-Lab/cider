{
 "cells": [
  {
   "cell_type": "markdown",
   "id": "96d8501c",
   "metadata": {},
   "source": [
    "# Featurizer"
   ]
  },
  {
   "cell_type": "code",
   "execution_count": null,
   "id": "ec77078c",
   "metadata": {},
   "outputs": [],
   "source": [
    "import sys\n",
    "sys.path.insert(0,'..')\n",
    "from featurizer import *"
   ]
  },
  {
   "cell_type": "markdown",
   "id": "7f3fd778",
   "metadata": {},
   "source": [
    "Load some mobile phone metadata. See {doc}`standardized data formats <../data_formats/cdr>` for file schemas. "
   ]
  },
  {
   "cell_type": "code",
   "execution_count": null,
   "id": "44d61e7d",
   "metadata": {},
   "outputs": [],
   "source": [
    "datastore = DataStore(cfg_dir='../configs/config.yml')\n",
    "featurizer = Featurizer(datastore=datastore, clean_folders=True)"
   ]
  },
  {
   "cell_type": "markdown",
   "id": "be520940",
   "metadata": {},
   "source": [
    "Remove duplicate records, filter to just a specific date range, remove outlier days and spammers based on call and text volumes, and remove duplicate records in CDR, recharges, mobile data records, and mobile money records."
   ]
  },
  {
   "cell_type": "code",
   "execution_count": null,
   "id": "7060dbd4",
   "metadata": {},
   "outputs": [],
   "source": [
    "# Deduplication\n",
    "featurizer.ds.deduplicate()\n",
    "\n",
    "# Filter to just January 5 - February 1 (inclusive)\n",
    "featurizer.ds.filter_dates('2020-01-01', '2020-02-28')\n",
    "\n",
    "# Remove transactions involving spammers who place 3+ calls/texts per active day\n",
    "spammers = featurizer.ds.remove_spammers(spammer_threshold=1.8)"
   ]
  },
  {
   "cell_type": "code",
   "execution_count": null,
   "id": "0702d156",
   "metadata": {},
   "outputs": [],
   "source": [
    "# Remove all records from days more than 2 standard deviations from the mean transaction volume\n",
    "outlier_days = featurizer.ds.filter_outlier_days(num_sds=2)"
   ]
  },
  {
   "cell_type": "markdown",
   "id": "b9e04d2e",
   "metadata": {},
   "source": [
    "Produce summary statistics and plots."
   ]
  },
  {
   "cell_type": "code",
   "execution_count": null,
   "id": "62e500d0",
   "metadata": {},
   "outputs": [],
   "source": [
    "print(featurizer.diagnostic_statistics())"
   ]
  },
  {
   "cell_type": "code",
   "execution_count": null,
   "id": "ed688b3c",
   "metadata": {},
   "outputs": [],
   "source": [
    "featurizer.diagnostic_plots()"
   ]
  },
  {
   "cell_type": "markdown",
   "id": "c2adfb27",
   "metadata": {},
   "source": [
    "Featurize the data"
   ]
  },
  {
   "cell_type": "code",
   "execution_count": null,
   "id": "8593e4f9",
   "metadata": {},
   "outputs": [],
   "source": [
    "featurizer.cdr_features()\n",
    "featurizer.international_features()\n",
    "featurizer.location_features()\n",
    "featurizer.recharges_features()\n",
    "featurizer.mobiledata_features()\n",
    "featurizer.mobilemoney_features()\n",
    "featurizer.all_features()"
   ]
  },
  {
   "cell_type": "code",
   "execution_count": null,
   "id": "2d077b0c",
   "metadata": {},
   "outputs": [],
   "source": [
    "pd.read_csv('../outputs/featurizer/datasets/features.csv').head()"
   ]
  },
  {
   "cell_type": "markdown",
   "id": "a93c1f6e",
   "metadata": {},
   "source": [
    "Plot the distributions of some of the features."
   ]
  },
  {
   "cell_type": "code",
   "execution_count": null,
   "id": "b117b92f",
   "metadata": {},
   "outputs": [],
   "source": [
    "featurizer.feature_plots()"
   ]
  },
  {
   "cell_type": "code",
   "execution_count": null,
   "id": "77e9ee3f",
   "metadata": {},
   "outputs": [],
   "source": []
  }
 ],
 "metadata": {
  "kernelspec": {
   "display_name": "cider",
   "language": "python",
   "name": "cider"
  },
  "language_info": {
   "codemirror_mode": {
    "name": "ipython",
    "version": 3
   },
   "file_extension": ".py",
   "mimetype": "text/x-python",
   "name": "python",
   "nbconvert_exporter": "python",
   "pygments_lexer": "ipython3",
   "version": "3.7.7"
  }
 },
 "nbformat": 4,
 "nbformat_minor": 5
}
