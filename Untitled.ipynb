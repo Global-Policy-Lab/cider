{
 "cells": [
  {
   "cell_type": "code",
   "execution_count": 1,
   "id": "baf1ebac",
   "metadata": {},
   "outputs": [],
   "source": [
    "from cider.datastore import DataStore"
   ]
  },
  {
   "cell_type": "code",
   "execution_count": 2,
   "id": "2b95df4a",
   "metadata": {},
   "outputs": [],
   "source": [
    "config_file = 'configs/config.yml'"
   ]
  },
  {
   "cell_type": "code",
   "execution_count": 3,
   "id": "ad9afc48",
   "metadata": {},
   "outputs": [],
   "source": [
    "data = DataStore(config_file)"
   ]
  },
  {
   "cell_type": "code",
   "execution_count": null,
   "id": "787e975d",
   "metadata": {},
   "outputs": [],
   "source": []
  }
 ],
 "metadata": {
  "kernelspec": {
   "display_name": "cider",
   "language": "python",
   "name": "cider"
  },
  "language_info": {
   "codemirror_mode": {
    "name": "ipython",
    "version": 3
   },
   "file_extension": ".py",
   "mimetype": "text/x-python",
   "name": "python",
   "nbconvert_exporter": "python",
   "pygments_lexer": "ipython3",
   "version": "3.8.10"
  }
 },
 "nbformat": 4,
 "nbformat_minor": 5
}
