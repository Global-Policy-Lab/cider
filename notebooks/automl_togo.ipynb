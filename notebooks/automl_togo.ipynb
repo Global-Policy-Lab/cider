{
 "cells": [
  {
   "cell_type": "code",
   "execution_count": null,
   "metadata": {},
   "outputs": [],
   "source": [
    "import autosklearn.regression\n",
    "from joblib import dump\n",
    "import matplotlib.pyplot as plt\n",
    "import numpy as np\n",
    "from scipy.stats import pearsonr, spearmanr\n",
    "import sklearn\n",
    "from skmisc.loess import loess\n",
    "from sklearn.model_selection import KFold, train_test_split\n",
    "from sklearn.metrics import r2_score\n",
    "import sys\n",
    "sys.path.insert(0,'..')\n",
    "from ml import *\n",
    "import pandas as pd"
   ]
  },
  {
   "cell_type": "markdown",
   "metadata": {},
   "source": [
    "### Preprocess data into right format for cider"
   ]
  },
  {
   "cell_type": "code",
   "execution_count": null,
   "metadata": {},
   "outputs": [],
   "source": [
    "feats = pd.read_csv('/data/togo_anon/feats/survey_combos/survey2018_cdr2018.csv')\n",
    "feats = feats[[c for c in feats.columns if 'reporting' not in c or  c == 'reporting__number_of_records']]\\\n",
    "    .drop(['_c0', 'canton'], axis=1)\\\n",
    "    .rename({'phone_number':'name'}, axis=1)\n",
    "feats.to_csv('/data/togo_anon/feats/survey_combos/survey2018_cdr2018_cider.csv', index=False)"
   ]
  },
  {
   "cell_type": "code",
   "execution_count": null,
   "metadata": {},
   "outputs": [],
   "source": [
    "labels = pd.read_csv('/data/togo_anon/paper/datasets/survey2018.csv')\n",
    "labels = labels[['phone_number', 'weight', 'cons']]\\\n",
    "    .rename({'phone_number':'name', 'cons':'label'}, axis=1)\n",
    "labels.to_csv('/data/togo_anon/surveys/survey2018/survey2018_labels_cider.csv', index=False)"
   ]
  },
  {
   "cell_type": "code",
   "execution_count": null,
   "metadata": {},
   "outputs": [],
   "source": [
    "feats = pd.read_csv('/data/togo_anon/feats/survey_combos/surveysep2020_cdr2020.csv')\n",
    "feats = feats[[c for c in feats.columns if 'reporting' not in c or  c == 'reporting__number_of_records']]\\\n",
    "    .rename({'phone_number':'name'}, axis=1)\n",
    "feats.to_csv('/data/togo_anon/feats/survey_combos/survey2020_cdr2020_cider.csv', index=False)"
   ]
  },
  {
   "cell_type": "code",
   "execution_count": null,
   "metadata": {},
   "outputs": [],
   "source": [
    "labels = pd.read_csv('/data/togo_anon/paper/datasets/survey2020.csv')\n",
    "labels = labels[['phone_number', 'weight', 'pmt']]\\\n",
    "    .rename({'phone_number':'name', 'pmt':'label'}, axis=1)\n",
    "labels.to_csv('/data/togo_anon/surveys/survey2018/survey2020_labels_cider.csv', index=False)"
   ]
  },
  {
   "cell_type": "markdown",
   "metadata": {},
   "source": [
    "### Standard ML"
   ]
  },
  {
   "cell_type": "code",
   "execution_count": null,
   "metadata": {},
   "outputs": [],
   "source": [
    "learner = Learner(cfg_dir='../configs/config_emily.yml')\n",
    "learner.merge()"
   ]
  },
  {
   "cell_type": "code",
   "execution_count": null,
   "metadata": {},
   "outputs": [],
   "source": [
    "learner.tuned_model(model_name='gradientboosting')"
   ]
  },
  {
   "cell_type": "code",
   "execution_count": null,
   "metadata": {},
   "outputs": [],
   "source": [
    "oos = learner.oos_predictions(model='gradientboosting', tuned=True)"
   ]
  },
  {
   "cell_type": "code",
   "execution_count": null,
   "metadata": {},
   "outputs": [],
   "source": [
    "print('r2 score for gradient boosting: %.2f' % \n",
    "      r2_score(oos['true'], oos['predicted'], sample_weight=oos['weight']))"
   ]
  },
  {
   "cell_type": "code",
   "execution_count": null,
   "metadata": {},
   "outputs": [],
   "source": [
    "learner.scatter_plot(model_name='gradientboosting', tuned=True)"
   ]
  },
  {
   "cell_type": "markdown",
   "metadata": {},
   "source": [
    "### AutoML"
   ]
  },
  {
   "cell_type": "code",
   "execution_count": null,
   "metadata": {},
   "outputs": [],
   "source": [
    "learner.automl(model_name='automl')"
   ]
  },
  {
   "cell_type": "code",
   "execution_count": null,
   "metadata": {},
   "outputs": [],
   "source": [
    "oos = learner.oos_predictions(model='automl', tuned=False)"
   ]
  },
  {
   "cell_type": "code",
   "execution_count": null,
   "metadata": {},
   "outputs": [],
   "source": [
    "print('R2 score for AutoML %.2f' % r2_score(oos['true'], oos['predicted'], sample_weight=oos['weight']))"
   ]
  },
  {
   "cell_type": "code",
   "execution_count": null,
   "metadata": {},
   "outputs": [],
   "source": [
    "learner.scatter_plot(model_name='automl', tuned=False)"
   ]
  },
  {
   "cell_type": "code",
   "execution_count": null,
   "metadata": {},
   "outputs": [],
   "source": []
  }
 ],
 "metadata": {
  "kernelspec": {
   "display_name": "cider",
   "language": "python",
   "name": "my_env"
  },
  "language_info": {
   "codemirror_mode": {
    "name": "ipython",
    "version": 3
   },
   "file_extension": ".py",
   "mimetype": "text/x-python",
   "name": "python",
   "nbconvert_exporter": "python",
   "pygments_lexer": "ipython3",
   "version": "3.7.7"
  }
 },
 "nbformat": 4,
 "nbformat_minor": 4
}
