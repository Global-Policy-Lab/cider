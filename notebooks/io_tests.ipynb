{
 "cells": [
  {
   "cell_type": "code",
   "execution_count": null,
   "metadata": {},
   "outputs": [],
   "source": [
    "import sys\n",
    "sys.path.insert(0,'..')\n",
    "from helpers.utils import *\n",
    "from helpers.io_utils import *"
   ]
  },
  {
   "cell_type": "markdown",
   "metadata": {},
   "source": [
    "### CDR"
   ]
  },
  {
   "cell_type": "code",
   "execution_count": null,
   "metadata": {},
   "outputs": [],
   "source": [
    "# Test for correct CDR format\n",
    "cdr = load_cdr('../synthetic_data/cdr.csv')\n",
    "cdr.show(5)"
   ]
  },
  {
   "cell_type": "code",
   "execution_count": null,
   "metadata": {},
   "outputs": [],
   "source": [
    "df = pd.read_csv('../synthetic_data/cdr.csv').rename({'interaction':'X'}, axis=1)\n",
    "df = df.where((pd.notnull(df)), None)\n",
    "try:\n",
    "    cdr = load_cdr(df=df)\n",
    "except ValueError:\n",
    "    pass"
   ]
  },
  {
   "cell_type": "code",
   "execution_count": null,
   "metadata": {},
   "outputs": [],
   "source": [
    "# Test for interaction column\n",
    "df = pd.read_csv('../synthetic_data/cdr.csv')\n",
    "df['interaction'] = 'X'\n",
    "df = df.where((pd.notnull(df)), None)\n",
    "try:\n",
    "    cdr = load_cdr(df=df)\n",
    "except ValueError:\n",
    "    pass"
   ]
  },
  {
   "cell_type": "code",
   "execution_count": null,
   "metadata": {},
   "outputs": [],
   "source": [
    "# Test for international column\n",
    "df = pd.read_csv('../synthetic_data/cdr.csv')\n",
    "df['international'] = 'XXX'\n",
    "df = df.where((pd.notnull(df)), None)\n",
    "try:\n",
    "    cdr = load_cdr(df=df)\n",
    "except ValueError:\n",
    "    pass"
   ]
  },
  {
   "cell_type": "markdown",
   "metadata": {},
   "source": [
    "### Recharges"
   ]
  },
  {
   "cell_type": "code",
   "execution_count": null,
   "metadata": {},
   "outputs": [],
   "source": [
    "recharges = load_recharges('../synthetic_data/recharges.csv')\n",
    "recharges.show(5)"
   ]
  },
  {
   "cell_type": "markdown",
   "metadata": {},
   "source": [
    "### Mobile data"
   ]
  },
  {
   "cell_type": "code",
   "execution_count": null,
   "metadata": {},
   "outputs": [],
   "source": [
    "mobiledata = load_mobiledata('../synthetic_data/mobiledata.csv')\n",
    "mobiledata.show(5)"
   ]
  },
  {
   "cell_type": "markdown",
   "metadata": {},
   "source": [
    "### Mobile money"
   ]
  },
  {
   "cell_type": "code",
   "execution_count": null,
   "metadata": {},
   "outputs": [],
   "source": [
    "mobilemoney = load_mobilemoney('../synthetic_data/mobilemoney.csv')\n",
    "mobilemoney.show(5, truncate=True, vertical=True)"
   ]
  },
  {
   "cell_type": "code",
   "execution_count": null,
   "metadata": {},
   "outputs": [],
   "source": [
    "df = pd.read_csv('../synthetic_data/mobilemoney.csv').rename({'txn_type':'X'}, axis=1)\n",
    "df = df.where((pd.notnull(df)), None)\n",
    "try:\n",
    "    mobilemoney = load_mobilemoney(df=df)\n",
    "except ValueError:\n",
    "    pass"
   ]
  },
  {
   "cell_type": "code",
   "execution_count": null,
   "metadata": {},
   "outputs": [],
   "source": [
    "df = pd.read_csv('../synthetic_data/mobilemoney.csv')\n",
    "df['txn_type'] = 'X'\n",
    "df = df.where((pd.notnull(df)), None)\n",
    "try:\n",
    "    mobilemoney = load_mobilemoney(df=df)\n",
    "except ValueError:\n",
    "    pass"
   ]
  },
  {
   "cell_type": "code",
   "execution_count": null,
   "metadata": {},
   "outputs": [],
   "source": []
  }
 ],
 "metadata": {
  "kernelspec": {
   "display_name": "py3",
   "language": "python",
   "name": "py3"
  },
  "language_info": {
   "codemirror_mode": {
    "name": "ipython",
    "version": 3
   },
   "file_extension": ".py",
   "mimetype": "text/x-python",
   "name": "python",
   "nbconvert_exporter": "python",
   "pygments_lexer": "ipython3",
   "version": "3.7.7"
  }
 },
 "nbformat": 4,
 "nbformat_minor": 4
}
